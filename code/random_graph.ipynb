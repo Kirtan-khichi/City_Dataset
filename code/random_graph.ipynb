{
 "cells": [
  {
   "cell_type": "code",
   "execution_count": 1,
   "metadata": {},
   "outputs": [],
   "source": [
    "# importing the required modules\n",
    "import pandas as pd\n",
    "import networkx as nx\n",
    "import random\n",
    "from randomGraph import Graph"
   ]
  },
  {
   "cell_type": "code",
   "execution_count": null,
   "metadata": {},
   "outputs": [],
   "source": [
    "# reading the 'Complete_graph.csv' file\n",
    "csv_file_path = 'Complete_graph.csv'\n",
    "df = pd.read_csv(csv_file_path)\n",
    "\n",
    "G = Graph()\n",
    "\n",
    "def dropout_graph(G, df, dropout):\n",
    "    # Add nodes to the graph\n",
    "    G.add_nodes(df['node1'])\n",
    "    G.add_nodes(df['node2'])\n",
    "\n",
    "    for _, row in df.iterrows():\n",
    "        node1 = row['node1']\n",
    "        node2 = row['node2']\n",
    "        route_distance = row['route_distance']\n",
    "        G.add_edge(node1, node2, route_distance, direction = False)\n",
    "\n",
    "    # Create a random connected graph by removing selected edges\n",
    "    random_connected_graph = G.randomGraphCreater(dropout)\n",
    "\n",
    "    output_csv_file = 'random_connected_graph.csv'  \n",
    "    edge_data = list(random_connected_graph)\n",
    "    edge_df = pd.DataFrame(edge_data, columns=['node1', 'node2', 'weight'])\n",
    "    edge_df.to_csv(output_csv_file, index=False)\n",
    "    \n",
    "    return f\"Random connected graph saved to {output_csv_file}\"\n",
    "dropout_graph(G, df, 0.95)"
   ]
  },
  {
   "cell_type": "code",
   "execution_count": 44,
   "metadata": {},
   "outputs": [
    {
     "data": {
      "text/plain": [
       "{'Lakhimpur': [('Mirzapur', 416), ('Aligarh', 328), ('Sitamarhi', 621)],\n",
       " 'Chitrakoot': [('Araria', 799), ('Rohtas', 383)],\n",
       " 'Sitamarhi': [('Lakhimpur', 621), ('Baghpat', 1067)],\n",
       " 'Bhagalpur': [('Jaipur', 1307), ('Sikar', 1420), ('Sri Ganganagar', 1653)],\n",
       " 'Durgapur': [('Lucknow', 842), ('Arrah', 442), ('Sagar', 1084)],\n",
       " 'Bundi': [('Mahoba', 517)],\n",
       " 'Ghazipur': [('Pakur', 554), ('Palamu', 296)],\n",
       " 'Jehanabad': [('Sri Ganganagar', 1492), ('Morena', 896)],\n",
       " 'Morena': [('Jaipur', 290), ('Kota', 331), ('Jehanabad', 896)],\n",
       " 'Pakur': [('Calicut', 2430), ('Ghazipur', 554)],\n",
       " 'Rohtas': [('Raebareli', 368), ('Baghpat', 934), ('Chitrakoot', 383)],\n",
       " 'Nawada': [('Bikaner', 1501), ('Sarangarh', 625), ('Una', 1438)],\n",
       " 'Faridabad': [('Lucknow', 447), ('Rajsamand', 607)],\n",
       " 'Patna': [('Gaya', 102), ('Delhi', 1017)],\n",
       " 'Bhopal': [('Delhi', 783), ('Mahoba', 383), ('Una', 1156)],\n",
       " 'Mirzapur': [('Lakhimpur', 416), ('Sitapur', 375)],\n",
       " 'Mahoba': [('Bhopal', 383), ('Bundi', 517)],\n",
       " 'Jodhpur': [('Calicut', 2166), ('Sarangarh', 1417)],\n",
       " 'Gaya': [('Belagavi', 1868), ('Patna', 102)],\n",
       " 'Sitapur': [('Kota', 675), ('Sikar', 679), ('Mirzapur', 375)],\n",
       " 'Sagar': [('Daudnagar', 747), ('Durgapur', 1084)],\n",
       " 'Sarangarh': [('Jodhpur', 1417), ('Nawada', 625)],\n",
       " 'Aligarh': [('Balaghat', 883), ('Lakhimpur', 328)],\n",
       " 'Calicut': [('Jodhpur', 2166), ('Pakur', 2430)],\n",
       " 'Agra': [('Hanamkonda', 1257), ('Palamu', 886)],\n",
       " 'Sri Ganganagar': [('Jehanabad', 1492), ('Bhagalpur', 1653)],\n",
       " 'Araria': [('Chitrakoot', 799), ('Rajsamand', 1635)],\n",
       " 'Madhepura': [('Arrah', 224), ('Prayagraj', 545)],\n",
       " 'Hanamkonda': [('Agra', 1257), ('Bikaner', 1619)],\n",
       " 'Kota': [('Morena', 331), ('Sitapur', 675)],\n",
       " 'Palamu': [('Agra', 886), ('Ghazipur', 296), ('Balaghat', 689)],\n",
       " 'Jaipur': [('Bhagalpur', 1307), ('Morena', 290)],\n",
       " 'Prayagraj': [('Madhepura', 545), ('Belagavi', 1547)],\n",
       " 'Daudnagar': [('Raebareli', 435), ('Sagar', 747)],\n",
       " 'Raebareli': [('Daudnagar', 435), ('Rohtas', 368)],\n",
       " 'Sikar': [('Bhagalpur', 1420), ('Sitapur', 679)],\n",
       " 'Arrah': [('Madhepura', 224), ('Durgapur', 442)],\n",
       " 'Delhi': [('Bhopal', 783), ('Patna', 1017)],\n",
       " 'Baghpat': [('Rohtas', 934), ('Sitamarhi', 1067)],\n",
       " 'Rajsamand': [('Faridabad', 607), ('Araria', 1635)],\n",
       " 'Lucknow': [('Durgapur', 842), ('Faridabad', 447)],\n",
       " 'Balaghat': [('Aligarh', 883), ('Palamu', 689)],\n",
       " 'Bikaner': [('Hanamkonda', 1619), ('Nawada', 1501)],\n",
       " 'Belagavi': [('Gaya', 1868), ('Prayagraj', 1547)],\n",
       " 'Una': [('Bhopal', 1156), ('Nawada', 1438)]}"
      ]
     },
     "execution_count": 44,
     "metadata": {},
     "output_type": "execute_result"
    }
   ],
   "source": [
    "adj_lst = G.adjList()\n",
    "adj_lst"
   ]
  },
  {
   "cell_type": "code",
   "execution_count": 47,
   "metadata": {},
   "outputs": [
    {
     "name": "stdout",
     "output_type": "stream",
     "text": [
      "Shortest path from Rajsamand to Patna: ['Rajsamand', 'Faridabad', 'Lucknow', 'Durgapur', 'Arrah', 'Madhepura', 'Prayagraj', 'Belagavi', 'Gaya', 'Patna']\n",
      "Shortest path length: 6624\n"
     ]
    }
   ],
   "source": [
    "df = pd.read_csv('random_connected_graph.csv')\n",
    "G = nx.Graph()\n",
    "\n",
    "for _, row in df.iterrows():\n",
    "    node1 = row['node1']\n",
    "    node2 = row['node2']\n",
    "    route_distance = row['weight']\n",
    "\n",
    "    G.add_node(node1)\n",
    "    G.add_node(node2)\n",
    "\n",
    "    G.add_edge(node1, node2, weight=int(route_distance))\n",
    "\n",
    "source_node = 'Rajsamand'\n",
    "target_node = 'Patna'\n",
    "shortest_path = nx.shortest_path(G, source=source_node, target=target_node, weight='weight')\n",
    "shortest_path_length = nx.shortest_path_length(G, source=source_node, target=target_node, weight='weight')\n",
    "print(f\"Shortest path from {source_node} to {target_node}: {shortest_path}\")\n",
    "print(f\"Shortest path length: {shortest_path_length}\")"
   ]
  }
 ],
 "metadata": {
  "kernelspec": {
   "display_name": "base",
   "language": "python",
   "name": "python3"
  },
  "language_info": {
   "codemirror_mode": {
    "name": "ipython",
    "version": 3
   },
   "file_extension": ".py",
   "mimetype": "text/x-python",
   "name": "python",
   "nbconvert_exporter": "python",
   "pygments_lexer": "ipython3",
   "version": "3.11.4"
  },
  "orig_nbformat": 4
 },
 "nbformat": 4,
 "nbformat_minor": 2
}
